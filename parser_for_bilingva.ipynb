{
  "nbformat": 4,
  "nbformat_minor": 0,
  "metadata": {
    "colab": {
      "provenance": [],
      "include_colab_link": true
    },
    "kernelspec": {
      "name": "python3",
      "display_name": "Python 3"
    },
    "language_info": {
      "name": "python"
    }
  },
  "cells": [
    {
      "cell_type": "markdown",
      "metadata": {
        "id": "view-in-github",
        "colab_type": "text"
      },
      "source": [
        "<a href=\"https://colab.research.google.com/github/MeikoFudo/PROJECT_IT_SCHOOL/blob/main/parser_for_bilingva.ipynb\" target=\"_parent\"><img src=\"https://colab.research.google.com/assets/colab-badge.svg\" alt=\"Open In Colab\"/></a>"
      ]
    },
    {
      "cell_type": "code",
      "source": [
        "from google.colab import drive\n",
        "drive.mount('/content/drive')"
      ],
      "metadata": {
        "colab": {
          "base_uri": "https://localhost:8080/"
        },
        "id": "20-RLPzfhOLB",
        "outputId": "f90bcad0-f340-4f9c-ece4-e9156a4f08cb"
      },
      "execution_count": null,
      "outputs": [
        {
          "output_type": "stream",
          "name": "stdout",
          "text": [
            "Drive already mounted at /content/drive; to attempt to forcibly remount, call drive.mount(\"/content/drive\", force_remount=True).\n"
          ]
        }
      ]
    },
    {
      "cell_type": "code",
      "source": [
        "import os\n",
        "import requests\n",
        "import re\n",
        "from bs4 import BeautifulSoup\n",
        "\n",
        "# папка для сохранения файлов с текстом\n",
        "folder_path = \"parsed_bilingva_texts\"\n",
        "\n",
        "# создаем папку, если она еще не существует\n",
        "if not os.path.exists(folder_path):\n",
        "    os.mkdir(folder_path)\n",
        "\n",
        "# читаем файл с ссылками\n",
        "\n",
        "with open(\"/content/drive/MyDrive/all_corrent_links_bilingva.txt\", \"r\") as f:\n",
        "    links = [line.strip() for line in f.readlines()]\n",
        "\n",
        "# проходимся по ссылкам и парсим текст\n",
        "for i, line in enumerate(links):\n",
        "    try:\n",
        "        _str = line.split()\n",
        "        col_ind = int(_str[0])\n",
        "        link = _str[1]\n",
        "        response = requests.get(link)\n",
        "        response.encoding = 'windows-1251'\n",
        "        soup = BeautifulSoup(response.text, 'html.parser')\n",
        "        tr_tags = soup.select('table > tr')\n",
        "        text =\"\"\n",
        "        print()\n",
        "        for tr in tr_tags:\n",
        "          td_tags = tr.find_all('td', recursive=False)\n",
        "          text = re.sub(r'[^\\S\\n]+', ' ', text)\n",
        "\n",
        "          try:\n",
        "            text += td_tags[col_ind].text.strip()\n",
        "          except: \n",
        "            pass\n",
        "          \n",
        "        # # сохраняем текст в файл\n",
        "        file_name = f\"parsed_bilingva_text_{i}.txt\"\n",
        "        with open(os.path.join(folder_path, file_name), \"w\") as f:\n",
        "            f.write(link+\"\\n\\n\")\n",
        "            f.write(text)\n",
        "            \n",
        "        print(f\"Ссылка {link} успешно спарсена и сохранена в файл {file_name}\")\n",
        "    except Exception as e:\n",
        "        print(f\"Ошибка при парсинге ссылки {link}\")\n",
        "        print(e)\n"
      ],
      "metadata": {
        "id": "fXWmc_cjvCoq"
      },
      "execution_count": null,
      "outputs": []
    },
    {
      "cell_type": "code",
      "source": [
        "import zipfile\n",
        "import os\n",
        "\n",
        "zipfile_name = 'parsed_bilingva_texts.zip'\n",
        "folder_path = '/content/parsed_bilingva_texts'\n",
        "with zipfile.ZipFile(zipfile_name, 'w', zipfile.ZIP_DEFLATED) as zipf:\n",
        "    for root, dirs, files in os.walk(folder_path):\n",
        "        for file in files:\n",
        "            zipf.write(os.path.join(root, file))\n",
        "\n",
        "# Скачиваем архив в текущую директорию\n",
        "from google.colab import files\n",
        "files.download(zipfile_name)"
      ],
      "metadata": {
        "colab": {
          "base_uri": "https://localhost:8080/",
          "height": 17
        },
        "id": "aubrMkCtwOuS",
        "outputId": "03db0ac6-f942-402e-e821-ce05ad1d4422"
      },
      "execution_count": null,
      "outputs": [
        {
          "output_type": "display_data",
          "data": {
            "text/plain": [
              "<IPython.core.display.Javascript object>"
            ],
            "application/javascript": [
              "\n",
              "    async function download(id, filename, size) {\n",
              "      if (!google.colab.kernel.accessAllowed) {\n",
              "        return;\n",
              "      }\n",
              "      const div = document.createElement('div');\n",
              "      const label = document.createElement('label');\n",
              "      label.textContent = `Downloading \"${filename}\": `;\n",
              "      div.appendChild(label);\n",
              "      const progress = document.createElement('progress');\n",
              "      progress.max = size;\n",
              "      div.appendChild(progress);\n",
              "      document.body.appendChild(div);\n",
              "\n",
              "      const buffers = [];\n",
              "      let downloaded = 0;\n",
              "\n",
              "      const channel = await google.colab.kernel.comms.open(id);\n",
              "      // Send a message to notify the kernel that we're ready.\n",
              "      channel.send({})\n",
              "\n",
              "      for await (const message of channel.messages) {\n",
              "        // Send a message to notify the kernel that we're ready.\n",
              "        channel.send({})\n",
              "        if (message.buffers) {\n",
              "          for (const buffer of message.buffers) {\n",
              "            buffers.push(buffer);\n",
              "            downloaded += buffer.byteLength;\n",
              "            progress.value = downloaded;\n",
              "          }\n",
              "        }\n",
              "      }\n",
              "      const blob = new Blob(buffers, {type: 'application/binary'});\n",
              "      const a = document.createElement('a');\n",
              "      a.href = window.URL.createObjectURL(blob);\n",
              "      a.download = filename;\n",
              "      div.appendChild(a);\n",
              "      a.click();\n",
              "      div.remove();\n",
              "    }\n",
              "  "
            ]
          },
          "metadata": {}
        },
        {
          "output_type": "display_data",
          "data": {
            "text/plain": [
              "<IPython.core.display.Javascript object>"
            ],
            "application/javascript": [
              "download(\"download_5b51e81e-429c-4ee9-9b4e-29b359a4065a\", \"parsed_bilingva_texts.zip\", 1078766)"
            ]
          },
          "metadata": {}
        }
      ]
    }
  ]
}